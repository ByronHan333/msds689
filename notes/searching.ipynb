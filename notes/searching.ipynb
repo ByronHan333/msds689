{
 "cells": [
  {
   "cell_type": "markdown",
   "metadata": {},
   "source": [
    "# Binary search"
   ]
  },
  {
   "cell_type": "code",
   "execution_count": 10,
   "metadata": {},
   "outputs": [],
   "source": [
    "def binsearch(a,x):\n",
    "    left = 0; right = len(a)-1\n",
    "    while left<=right:    \n",
    "        mid = int((left + right)/2)\n",
    "        if a[mid]==x: return mid \n",
    "        if x < a[mid]: right = mid-1\n",
    "        else: left = mid+1\n",
    "    return -1"
   ]
  },
  {
   "cell_type": "code",
   "execution_count": 11,
   "metadata": {},
   "outputs": [
    {
     "data": {
      "text/plain": [
       "-1"
      ]
     },
     "execution_count": 11,
     "metadata": {},
     "output_type": "execute_result"
    }
   ],
   "source": [
    "binsearch(range(10), 333)"
   ]
  },
  {
   "cell_type": "code",
   "execution_count": 12,
   "metadata": {},
   "outputs": [
    {
     "name": "stdout",
     "output_type": "stream",
     "text": [
      "0 9\n",
      "5 9\n",
      "5 6\n"
     ]
    },
    {
     "data": {
      "text/plain": [
       "5"
      ]
     },
     "execution_count": 12,
     "metadata": {},
     "output_type": "execute_result"
    }
   ],
   "source": [
    "def binsearch(a,x,left,right):\n",
    "    print(left, right)\n",
    "    if left > right: return -1\n",
    "    mid = int((left + right)/2)\n",
    "    if a[mid]==x: return mid \n",
    "    if x < a[mid]:\n",
    "        return binsearch(a,x,left,mid-1)\n",
    "    else:\n",
    "        return binsearch(a,x,mid+1,right)\n",
    "\n",
    "a = range(10)\n",
    "n = len(a)\n",
    "binsearch(a,5,0,n-1)"
   ]
  }
 ],
 "metadata": {
  "kernelspec": {
   "display_name": "Python 3",
   "language": "python",
   "name": "python3"
  },
  "language_info": {
   "codemirror_mode": {
    "name": "ipython",
    "version": 3
   },
   "file_extension": ".py",
   "mimetype": "text/x-python",
   "name": "python",
   "nbconvert_exporter": "python",
   "pygments_lexer": "ipython3",
   "version": "3.7.1"
  }
 },
 "nbformat": 4,
 "nbformat_minor": 2
}
