{
 "cells": [
  {
   "cell_type": "markdown",
   "metadata": {},
   "source": [
    "# Binary search"
   ]
  },
  {
   "cell_type": "code",
   "execution_count": 10,
   "metadata": {},
   "outputs": [],
   "source": [
    "def binsearch(a,x):\n",
    "    left = 0; right = len(a)-1\n",
    "    while left<=right:    \n",
    "        mid = int((left + right)/2)\n",
    "        if a[mid]==x: return mid \n",
    "        if x < a[mid]: right = mid-1\n",
    "        else: left = mid+1\n",
    "    return -1"
   ]
  },
  {
   "cell_type": "code",
   "execution_count": 11,
   "metadata": {},
   "outputs": [
    {
     "data": {
      "text/plain": [
       "-1"
      ]
     },
     "execution_count": 11,
     "metadata": {},
     "output_type": "execute_result"
    }
   ],
   "source": [
    "binsearch(range(10), 333)"
   ]
  },
  {
   "cell_type": "code",
   "execution_count": 12,
   "metadata": {},
   "outputs": [
    {
     "name": "stdout",
     "output_type": "stream",
     "text": [
      "0 9\n",
      "5 9\n",
      "5 6\n"
     ]
    },
    {
     "data": {
      "text/plain": [
       "5"
      ]
     },
     "execution_count": 12,
     "metadata": {},
     "output_type": "execute_result"
    }
   ],
   "source": [
    "def binsearch(a,x,left,right):\n",
    "    print(left, right)\n",
    "    if left > right: return -1\n",
    "    mid = int((left + right)/2)\n",
    "    if a[mid]==x: return mid \n",
    "    if x < a[mid]:\n",
    "        return binsearch(a,x,left,mid-1)\n",
    "    else:\n",
    "        return binsearch(a,x,mid+1,right)\n",
    "\n",
    "a = range(10)\n",
    "n = len(a)\n",
    "binsearch(a,5,0,n-1)"
   ]
  },
  {
   "cell_type": "markdown",
   "metadata": {},
   "source": [
    "# Rabin-Karp hash search"
   ]
  },
  {
   "cell_type": "code",
   "execution_count": 86,
   "metadata": {},
   "outputs": [],
   "source": [
    "def hash(s:str)->int:\n",
    "    return sum(ord(c) for c in s)\n",
    "\n",
    "def search(doc, s) -> int:\n",
    "    n = len(doc); m = len(s)\n",
    "    hs = hash(s)\n",
    "    for i in range(0,n-m+1):\n",
    "        hdoc = hash(doc[i:i+m]) # slow O(m)\n",
    "        if hdoc==hs and s==doc[i:i+m]:\n",
    "            return i\n",
    "    return -1"
   ]
  },
  {
   "cell_type": "code",
   "execution_count": 87,
   "metadata": {},
   "outputs": [],
   "source": [
    "doc = \"\"\"Porchetta food truck Roli Roti and the Mission’s Dynamo Donut\n",
    "are teaming up once again on a one-day-only donut porchetta sandwich,\n",
    "which is exactly what it sounds like. The donuts serving as bread are\n",
    "flavored with onion and thyme, holding juicy slices of porchetta straight\n",
    "from the rotisserie.\"\"\""
   ]
  },
  {
   "cell_type": "code",
   "execution_count": 94,
   "metadata": {},
   "outputs": [
    {
     "data": {
      "text/plain": [
       "(21, 0, -1, 292)"
      ]
     },
     "execution_count": 94,
     "metadata": {},
     "output_type": "execute_result"
    }
   ],
   "source": [
    "search(doc, \"Roli Roti\"), search(doc, \"Porch\"), search(doc, \"foobar\"), search(doc, \"rie.\")"
   ]
  },
  {
   "cell_type": "code",
   "execution_count": 95,
   "metadata": {},
   "outputs": [],
   "source": [
    "def hash(s:str, n)->int:\n",
    "    return sum(ord(s[i]) for i in range(n))\n",
    "\n",
    "def search(doc, s) -> int:\n",
    "    n = len(doc); m = len(s)\n",
    "    hs = hash(s,m)\n",
    "    hdoc = hash(doc,m)  # init rolling hash\n",
    "    for i in range(0,n-m+1):\n",
    "        # print(f\"i={i}, n={n}, m={m}\")\n",
    "        if hdoc==hs and s==doc[i:i+m]:\n",
    "            return i\n",
    "        next = ord(doc[i+m]) if i+m<n else 0\n",
    "        hdoc = hdoc - ord(doc[i]) + next  # roll it!\n",
    "    return -1"
   ]
  },
  {
   "cell_type": "code",
   "execution_count": 93,
   "metadata": {},
   "outputs": [
    {
     "data": {
      "text/plain": [
       "(21, 0, -1, 292)"
      ]
     },
     "execution_count": 93,
     "metadata": {},
     "output_type": "execute_result"
    }
   ],
   "source": [
    "search(doc, \"Roli Roti\"), search(doc, \"Porch\"), search(doc, \"foobar\"), search(doc, \"rie.\")"
   ]
  }
 ],
 "metadata": {
  "kernelspec": {
   "display_name": "Python 3",
   "language": "python",
   "name": "python3"
  },
  "language_info": {
   "codemirror_mode": {
    "name": "ipython",
    "version": 3
   },
   "file_extension": ".py",
   "mimetype": "text/x-python",
   "name": "python",
   "nbconvert_exporter": "python",
   "pygments_lexer": "ipython3",
   "version": "3.7.1"
  }
 },
 "nbformat": 4,
 "nbformat_minor": 2
}
