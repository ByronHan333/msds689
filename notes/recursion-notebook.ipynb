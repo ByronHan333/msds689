{
 "cells": [
  {
   "cell_type": "markdown",
   "metadata": {},
   "source": [
    "# Math functions defined recursively"
   ]
  },
  {
   "cell_type": "markdown",
   "metadata": {},
   "source": [
    "## Factorial"
   ]
  },
  {
   "cell_type": "code",
   "execution_count": 1,
   "metadata": {},
   "outputs": [],
   "source": [
    "def fact(n):\n",
    "    if n==0: return 1\n",
    "    return n * fact(n-1)"
   ]
  },
  {
   "cell_type": "code",
   "execution_count": 2,
   "metadata": {},
   "outputs": [
    {
     "name": "stdout",
     "output_type": "stream",
     "text": [
      "0: 1\n",
      "1: 1\n",
      "2: 2\n",
      "3: 6\n",
      "4: 24\n",
      "5: 120\n",
      "6: 720\n",
      "7: 5040\n",
      "8: 40320\n",
      "9: 362880\n",
      "10: 3628800\n",
      "11: 39916800\n"
     ]
    }
   ],
   "source": [
    "for i in range(12): print(f\"{i}: {fact(i)}\")"
   ]
  },
  {
   "cell_type": "code",
   "execution_count": 3,
   "metadata": {},
   "outputs": [],
   "source": [
    "def factloop(n):\n",
    "    r = 1\n",
    "    for i in range(1,n+1):\n",
    "        r *= i\n",
    "    return r"
   ]
  },
  {
   "cell_type": "code",
   "execution_count": 4,
   "metadata": {},
   "outputs": [
    {
     "name": "stdout",
     "output_type": "stream",
     "text": [
      "0: 1\n",
      "1: 1\n",
      "2: 2\n",
      "3: 6\n",
      "4: 24\n",
      "5: 120\n",
      "6: 720\n",
      "7: 5040\n",
      "8: 40320\n",
      "9: 362880\n",
      "10: 3628800\n",
      "11: 39916800\n"
     ]
    }
   ],
   "source": [
    "for i in range(12): print(f\"{i}: {factloop(i)}\")"
   ]
  },
  {
   "cell_type": "markdown",
   "metadata": {},
   "source": [
    "## Fibonacci"
   ]
  },
  {
   "cell_type": "code",
   "execution_count": 5,
   "metadata": {},
   "outputs": [],
   "source": [
    "def fib(n):\n",
    "    if n==0 or n==1: return 1\n",
    "    return fib(n-1) + fib(n-2)"
   ]
  },
  {
   "cell_type": "code",
   "execution_count": 6,
   "metadata": {},
   "outputs": [
    {
     "name": "stdout",
     "output_type": "stream",
     "text": [
      "0: 1\n",
      "1: 1\n",
      "2: 2\n",
      "3: 3\n",
      "4: 5\n",
      "5: 8\n",
      "6: 13\n",
      "7: 21\n",
      "8: 34\n",
      "9: 55\n",
      "10: 89\n",
      "11: 144\n"
     ]
    }
   ],
   "source": [
    "for i in range(12): print(f\"{i}: {fib(i)}\")"
   ]
  },
  {
   "cell_type": "code",
   "execution_count": 7,
   "metadata": {},
   "outputs": [
    {
     "name": "stdout",
     "output_type": "stream",
     "text": [
      "8.02 s ± 0 ns per loop (mean ± std. dev. of 1 run, 1 loop each)\n"
     ]
    }
   ],
   "source": [
    "%timeit -r 1 -n 1 fib(37)"
   ]
  },
  {
   "cell_type": "code",
   "execution_count": 8,
   "metadata": {},
   "outputs": [],
   "source": [
    "def cachefib(n):\n",
    "    F = [0 for i in range(n+1)]\n",
    "    F[0] = F[1] = 1\n",
    "    # work up not down\n",
    "    for i in range(2,n+1): \n",
    "        F[i] = F[i-1] + F[i-2]\n",
    "    return F[n]    "
   ]
  },
  {
   "cell_type": "code",
   "execution_count": 9,
   "metadata": {},
   "outputs": [
    {
     "name": "stdout",
     "output_type": "stream",
     "text": [
      "209 µs ± 0 ns per loop (mean ± std. dev. of 1 run, 1 loop each)\n"
     ]
    }
   ],
   "source": [
    "%timeit -r 1 -n 1 cachefib(1000)"
   ]
  },
  {
   "cell_type": "markdown",
   "metadata": {},
   "source": [
    "# Binary search"
   ]
  },
  {
   "cell_type": "code",
   "execution_count": 10,
   "metadata": {},
   "outputs": [],
   "source": [
    "def binsearch(a,x):\n",
    "    left = 0; right = len(a)-1\n",
    "    while left<=right:    \n",
    "        mid = int((left + right)/2)\n",
    "        if a[mid]==x: return mid \n",
    "        if x < a[mid]: right = mid-1\n",
    "        else: left = mid+1\n",
    "    return -1"
   ]
  },
  {
   "cell_type": "code",
   "execution_count": 11,
   "metadata": {},
   "outputs": [
    {
     "data": {
      "text/plain": [
       "-1"
      ]
     },
     "execution_count": 11,
     "metadata": {},
     "output_type": "execute_result"
    }
   ],
   "source": [
    "binsearch(range(10), 333)"
   ]
  },
  {
   "cell_type": "code",
   "execution_count": 12,
   "metadata": {},
   "outputs": [
    {
     "name": "stdout",
     "output_type": "stream",
     "text": [
      "0 9\n",
      "5 9\n",
      "5 6\n"
     ]
    },
    {
     "data": {
      "text/plain": [
       "5"
      ]
     },
     "execution_count": 12,
     "metadata": {},
     "output_type": "execute_result"
    }
   ],
   "source": [
    "def binsearch(a,x,left,right):\n",
    "    print(left, right)\n",
    "    if left > right: return -1\n",
    "    mid = int((left + right)/2)\n",
    "    if a[mid]==x: return mid \n",
    "    if x < a[mid]:\n",
    "        return binsearch(a,x,left,mid-1)\n",
    "    else:\n",
    "        return binsearch(a,x,mid+1,right)\n",
    "\n",
    "a = range(10)\n",
    "n = len(a)\n",
    "binsearch(a,5,0,n-1)"
   ]
  },
  {
   "cell_type": "markdown",
   "metadata": {},
   "source": [
    "# Merge sort"
   ]
  },
  {
   "cell_type": "code",
   "execution_count": 13,
   "metadata": {},
   "outputs": [],
   "source": [
    "def msort(A):\n",
    "    if len(A)==1:\n",
    "        return A\n",
    "    if len(A)==2:\n",
    "        return A if A[0]<A[1] else [A[1],A[0]]\n",
    "    mid = int(len(A)/2)\n",
    "    left = msort(A[:mid])\n",
    "    right = msort(A[mid:])\n",
    "    return sorted(left + right)"
   ]
  },
  {
   "cell_type": "code",
   "execution_count": 16,
   "metadata": {},
   "outputs": [
    {
     "name": "stdout",
     "output_type": "stream",
     "text": [
      "[61, 91, 18, 72, 40, 92, 20, 58, 83, 38]\n",
      "[18 20 38 40 58 61 72 83 91 92]\n"
     ]
    }
   ],
   "source": [
    "import numpy as np\n",
    "A = list(np.random.randint(0,100,10))\n",
    "print(A)\n",
    "r = msort(A)\n",
    "print(np.array(r))"
   ]
  },
  {
   "cell_type": "code",
   "execution_count": null,
   "metadata": {},
   "outputs": [],
   "source": []
  }
 ],
 "metadata": {
  "kernelspec": {
   "display_name": "Python 3",
   "language": "python",
   "name": "python3"
  },
  "language_info": {
   "codemirror_mode": {
    "name": "ipython",
    "version": 3
   },
   "file_extension": ".py",
   "mimetype": "text/x-python",
   "name": "python",
   "nbconvert_exporter": "python",
   "pygments_lexer": "ipython3",
   "version": "3.7.1"
  }
 },
 "nbformat": 4,
 "nbformat_minor": 2
}
