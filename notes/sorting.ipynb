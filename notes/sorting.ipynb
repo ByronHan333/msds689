{
 "cells": [
  {
   "cell_type": "markdown",
   "metadata": {},
   "source": [
    "# Bubble sort"
   ]
  },
  {
   "cell_type": "code",
   "execution_count": 61,
   "metadata": {},
   "outputs": [],
   "source": [
    "def lprint(A,start=-1,stop=-1):\n",
    "    for i,a in enumerate(A):\n",
    "        print(f\"{a:3}\", end=' ')\n",
    "        print(\"\\b\", end=\"\")\n",
    "        if i>=start and i<=stop: print(\"\\u0332\", end=\"\")\n",
    "        \n",
    "def bubble(A):\n",
    "    swapped=True\n",
    "    second_to_last_idx = len(A)-2\n",
    "    n = 1\n",
    "    while swapped:\n",
    "        swapped=False\n",
    "        print(); lprint(A); print(f\"\\t\\tPass {n}\"); n += 1\n",
    "        for i in range(second_to_last_idx+1):\n",
    "            if A[i] > A[i+1]:\n",
    "                A[i], A[i+1] = A[i+1], A[i]\n",
    "                swapped = True\n",
    "                lprint(A,i,i+1); print(f\"\\t\\tSwap A[{i}], A[{i+1}]\")"
   ]
  },
  {
   "cell_type": "code",
   "execution_count": 60,
   "metadata": {},
   "outputs": [
    {
     "name": "stdout",
     "output_type": "stream",
     "text": [
      "\n",
      "  9  1  4  2 -3\t\tPass 1\n",
      "  1̲  9̲  4  2 -3\t\tSwap A[0], A[1]\n",
      "  1  4̲  9̲  2 -3\t\tSwap A[1], A[2]\n",
      "  1  4  2̲  9̲ -3\t\tSwap A[2], A[3]\n",
      "  1  4  2 -3̲  9̲\t\tSwap A[3], A[4]\n",
      "\n",
      "  1  4  2 -3  9\t\tPass 2\n",
      "  1  2̲  4̲ -3  9\t\tSwap A[1], A[2]\n",
      "  1  2 -3̲  4̲  9\t\tSwap A[2], A[3]\n",
      "\n",
      "  1  2 -3  4  9\t\tPass 3\n",
      "  1 -3̲  2̲  4  9\t\tSwap A[1], A[2]\n",
      "\n",
      "  1 -3  2  4  9\t\tPass 4\n",
      " -3̲  1̲  2  4  9\t\tSwap A[0], A[1]\n",
      "\n",
      " -3  1  2  4  9\t\tPass 5\n"
     ]
    }
   ],
   "source": [
    "A = [9,1,4,2,-3]\n",
    "bubble(A)"
   ]
  },
  {
   "cell_type": "markdown",
   "metadata": {},
   "source": [
    "# Quicksort"
   ]
  },
  {
   "cell_type": "code",
   "execution_count": 73,
   "metadata": {},
   "outputs": [],
   "source": [
    "def partition(A,lo,hi):\n",
    "    \"\"\"\n",
    "    Wikipedia: reorder the array so that all elements with\n",
    "    values less than the pivot come before the pivot, while\n",
    "    all elements with values greater than the pivot come after\n",
    "    it (equal values can go either way).\n",
    "    \"\"\"\n",
    "    i = lo\n",
    "    pivot = A[hi]    # pick last element as pivot  \n",
    "    for j in range(lo, hi):  \n",
    "        if A[j] < pivot:   \n",
    "            A[i], A[j] = A[j], A[i]\n",
    "            i += 1  \n",
    "    A[i], A[hi] = A[hi], A[i]\n",
    "    return i"
   ]
  },
  {
   "cell_type": "code",
   "execution_count": 74,
   "metadata": {},
   "outputs": [],
   "source": [
    "def qsort(A, lo=0, hi=len(A)-1):\n",
    "    if lo >= hi: return\n",
    "    pivot_idx = partition(A,lo,hi)\n",
    "    qsort(A, lo, pivot_idx-1)\n",
    "    qsort(A, pivot_idx+1, hi)"
   ]
  },
  {
   "cell_type": "code",
   "execution_count": 71,
   "metadata": {},
   "outputs": [
    {
     "name": "stdout",
     "output_type": "stream",
     "text": [
      "[-3, 1, 2, 4, 9]\n"
     ]
    }
   ],
   "source": [
    "A = [9,1,4,2,-3]\n",
    "qsort(A)\n",
    "print(A)"
   ]
  }
 ],
 "metadata": {
  "kernelspec": {
   "display_name": "Python 3",
   "language": "python",
   "name": "python3"
  },
  "language_info": {
   "codemirror_mode": {
    "name": "ipython",
    "version": 3
   },
   "file_extension": ".py",
   "mimetype": "text/x-python",
   "name": "python",
   "nbconvert_exporter": "python",
   "pygments_lexer": "ipython3",
   "version": "3.7.1"
  }
 },
 "nbformat": 4,
 "nbformat_minor": 2
}
